{
 "cells": [
  {
   "cell_type": "code",
   "execution_count": 1,
   "metadata": {},
   "outputs": [
    {
     "data": {
      "text/plain": [
       "'\\nContact: jean-baptiste.daudet@proximity.fr\\nOwner: JB Daudet\\nCreation date: 22/05/2024\\nLast modification date: 22/05/2024\\n\\nDescription:\\n  Capture data around how people are doing their chores\\n\\nOutputs:\\n  TBD\\n'"
      ]
     },
     "execution_count": 1,
     "metadata": {},
     "output_type": "execute_result"
    }
   ],
   "source": [
    "\"\"\"\n",
    "Contact: jean-baptiste.daudet@proximity.fr\n",
    "Owner: JB Daudet\n",
    "Creation date: 22/05/2024\n",
    "Last modification date: 22/05/2024\n",
    "\n",
    "Description:\n",
    "  Capture data around how people are doing their chores\n",
    "\n",
    "Outputs:\n",
    "  TBD\n",
    "\"\"\""
   ]
  },
  {
   "cell_type": "markdown",
   "metadata": {},
   "source": [
    "### IMPORTS"
   ]
  },
  {
   "cell_type": "code",
   "execution_count": 2,
   "metadata": {},
   "outputs": [],
   "source": [
    "import os\n",
    "import pytube\n",
    "from pydub import AudioSegment\n",
    "import speech_recognition as sr\n",
    "import pandas as pd\n",
    "\n"
   ]
  },
  {
   "cell_type": "code",
   "execution_count": 7,
   "metadata": {},
   "outputs": [],
   "source": [
    "\n",
    "\n",
    "def download_youtube_video(video_url, output_path='output'):\n",
    "    if not os.path.exists(output_path):\n",
    "        os.makedirs(output_path)\n",
    "    \n",
    "    yt = pytube.YouTube(video_url)\n",
    "    video = yt.streams.filter(only_audio=True).first()\n",
    "    output_file = video.download(output_path)\n",
    "    return output_file\n",
    "\n",
    "def convert_audio_to_wav(audio_file, output_format='wav'):\n",
    "    audio = AudioSegment.from_file(audio_file)\n",
    "    wav_file = f\"{os.path.splitext(audio_file)[0]}.{output_format}\"\n",
    "    audio.export(wav_file, format=output_format)\n",
    "    return wav_file\n",
    "\n",
    "def transcribe_audio_chunk(recognizer, audio_chunk):\n",
    "    try:\n",
    "        text = recognizer.recognize_google(audio_chunk)\n",
    "        return text\n",
    "    except sr.UnknownValueError:\n",
    "        return \"(Unintelligible)\"\n",
    "    except sr.RequestError as e:\n",
    "        return f\"(RequestError: {e})\"\n",
    "\n",
    "def transcribe_audio(audio_file, video_url, chunk_length=30000):\n",
    "    recognizer = sr.Recognizer()\n",
    "    audio = AudioSegment.from_wav(audio_file)\n",
    "    transcriptions = []\n",
    "\n",
    "    for i in range(0, len(audio), chunk_length):\n",
    "        start_time = i / 1000  # Convert to seconds\n",
    "        audio_chunk = audio[i:i + chunk_length]\n",
    "        audio_chunk_wav = f\"temp_chunk_{i}.wav\"\n",
    "        audio_chunk.export(audio_chunk_wav, format=\"wav\")\n",
    "        with sr.AudioFile(audio_chunk_wav) as source:\n",
    "            audio_data = recognizer.record(source)\n",
    "            text = transcribe_audio_chunk(recognizer, audio_data)\n",
    "            transcriptions.append({'start_time': start_time, 'text': text, 'video_url': video_url})\n",
    "\n",
    "        # Remove the temporary WAV file\n",
    "        os.remove(audio_chunk_wav)\n",
    "    \n",
    "    return transcriptions\n"
   ]
  },
  {
   "cell_type": "code",
   "execution_count": 12,
   "metadata": {},
   "outputs": [
    {
     "name": "stdout",
     "output_type": "stream",
     "text": [
      "Processing video: https://www.youtube.com/watch?v=2Pcrr6I1WLA\n",
      "Processing video: https://www.youtube.com/watch?v=6e5IMM1mrTc\n",
      "Processing video: https://www.youtube.com/watch?v=9NGpZ3QL7go\n",
      "Processing video: https://www.youtube.com/watch?v=n_O_b3Xfvkc\n",
      "Processing video: https://www.youtube.com/watch?v=fJqZb5RejUs\n",
      "Processing video: https://www.youtube.com/watch?v=ajr_Jc5GpTE\n",
      "Transcription completed and saved to individual and main CSV files.\n"
     ]
    }
   ],
   "source": [
    "def main(video_urls):\n",
    "    for video_url in video_urls:\n",
    "        print(f\"Processing video: {video_url}\")\n",
    "        audio_file = download_youtube_video(video_url)\n",
    "        wav_file = convert_audio_to_wav(audio_file)\n",
    "\n",
    "        transcriptions = transcribe_audio(wav_file, video_url)\n",
    "        \n",
    "        # Extract video ID from the URL\n",
    "        video_id = video_url.split('v=')[1]\n",
    "        individual_csv_file = f'transcriptions_{video_id}.csv'\n",
    "        \n",
    "        # Save the individual transcription file\n",
    "        df = pd.DataFrame(transcriptions)\n",
    "        df.to_csv(individual_csv_file, index=False)\n",
    "        \n",
    "        # Append to the main transcription file\n",
    "        with open(individual_csv_file, 'r') as ind_file:\n",
    "            if not os.path.exists('transcriptions.csv'):\n",
    "                with open('transcriptions.csv', 'w') as main_file:\n",
    "                    main_file.write(ind_file.read())\n",
    "            else:\n",
    "                with open('transcriptions.csv', 'a') as main_file:\n",
    "                    next(ind_file)  # Skip header row\n",
    "                    main_file.write(ind_file.read())\n",
    "        \n",
    "        # Remove the temporary files\n",
    "        os.remove(audio_file)\n",
    "        os.remove(wav_file)\n",
    "\n",
    "    print(\"Transcription completed and saved to individual and main CSV files.\")\n",
    "\n",
    "if __name__ == \"__main__\":\n",
    "    # List of YouTube video URLs to process\n",
    "    video_urls = [\n",
    "        \"https://www.youtube.com/watch?v=2Pcrr6I1WLA\",\n",
    "        \"https://www.youtube.com/watch?v=6e5IMM1mrTc\",\n",
    "        \"https://www.youtube.com/watch?v=9NGpZ3QL7go\",\n",
    "        \"https://www.youtube.com/watch?v=n_O_b3Xfvkc\",\n",
    "        \"https://www.youtube.com/watch?v=fJqZb5RejUs\",\n",
    "        \"https://www.youtube.com/watch?v=ajr_Jc5GpTE\"\n",
    "    ]\n",
    "    main(video_urls)"
   ]
  },
  {
   "cell_type": "markdown",
   "metadata": {},
   "source": [
    "# add a summary of the chunk of text with chatGPT"
   ]
  },
  {
   "cell_type": "code",
   "execution_count": 3,
   "metadata": {},
   "outputs": [],
   "source": [
    "from openai import OpenAI\n",
    "\n",
    "import time\n",
    "\n",
    "# Set up OpenAI API key\n",
    "openai_api_key = 'sk-proj-mkYh2wNLQ3lvJQxSxXtaT3BlbkFJKqYrRJxc2g3w5aGxN1rK'\n",
    "\n",
    "client = OpenAI(api_key=openai_api_key)"
   ]
  },
  {
   "cell_type": "code",
   "execution_count": 7,
   "metadata": {},
   "outputs": [],
   "source": [
    "def summarize_text(text):\n",
    "    while True:\n",
    "        try:\n",
    "            response = client.chat.completions.create(\n",
    "                model=\"gpt-4-turbo\",\n",
    "                messages=[{'role':'user', 'content':f\"sum up in one sentence the following text: {text}\"}])\n",
    "            return response.choices[0].message.content\n",
    "\n",
    "        except:\n",
    "            print(\"let's have a 10sec. nap, shall we?\")\n",
    "            time.sleep(10)"
   ]
  },
  {
   "cell_type": "code",
   "execution_count": 8,
   "metadata": {},
   "outputs": [
    {
     "name": "stdout",
     "output_type": "stream",
     "text": [
      "Summaries added and saved to transcriptions_with_summary.csv.\n"
     ]
    }
   ],
   "source": [
    "\n",
    "def add_summaries_to_transcriptions(file_in, file_out):\n",
    "    # Read the transcriptions CSV file\n",
    "    df = pd.read_csv(file_in)\n",
    "\n",
    "    # Apply the summarization function to each row in the DataFrame\n",
    "    df['summary'] = df['text'].apply(summarize_text)\n",
    "\n",
    "    # Save the updated DataFrame back to the CSV file\n",
    "    df.to_csv(file_out, index=False)\n",
    "    print(f\"Summaries added and saved to {file_out}.\")\n",
    "\n",
    "add_summaries_to_transcriptions('transcriptions.csv', 'transcriptions_with_summary.csv')"
   ]
  },
  {
   "cell_type": "code",
   "execution_count": null,
   "metadata": {},
   "outputs": [],
   "source": []
  }
 ],
 "metadata": {
  "kernelspec": {
   "display_name": "pampers-utils",
   "language": "python",
   "name": "python3"
  },
  "language_info": {
   "codemirror_mode": {
    "name": "ipython",
    "version": 3
   },
   "file_extension": ".py",
   "mimetype": "text/x-python",
   "name": "python",
   "nbconvert_exporter": "python",
   "pygments_lexer": "ipython3",
   "version": "3.12.0"
  }
 },
 "nbformat": 4,
 "nbformat_minor": 2
}
